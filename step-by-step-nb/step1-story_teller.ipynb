{
 "cells": [
  {
   "cell_type": "code",
   "execution_count": 1,
   "metadata": {},
   "outputs": [],
   "source": [
    "%reload_ext autoreload\n",
    "%autoreload 2"
   ]
  },
  {
   "cell_type": "code",
   "execution_count": 2,
   "metadata": {},
   "outputs": [],
   "source": [
    "from smartbook.data import Lab_Data\n",
    "from smartbook.llms.poe import Poe\n",
    "from smartbook.llms.deepseek import Deepseek"
   ]
  },
  {
   "cell_type": "code",
   "execution_count": 3,
   "metadata": {},
   "outputs": [
    {
     "ename": "NameError",
     "evalue": "name 'Novel' is not defined",
     "output_type": "error",
     "traceback": [
      "\u001b[1;31m---------------------------------------------------------------------------\u001b[0m",
      "\u001b[1;31mNameError\u001b[0m                                 Traceback (most recent call last)",
      "Cell \u001b[1;32mIn[3], line 1\u001b[0m\n\u001b[1;32m----> 1\u001b[0m novel \u001b[38;5;241m=\u001b[39m \u001b[43mNovel\u001b[49m(\u001b[38;5;124m\"\u001b[39m\u001b[38;5;124mdatasets/yujie\u001b[39m\u001b[38;5;124m\"\u001b[39m, main_character\u001b[38;5;241m=\u001b[39m\u001b[38;5;124m\"\u001b[39m\u001b[38;5;124m史金\u001b[39m\u001b[38;5;124m\"\u001b[39m, sub_dir\u001b[38;5;241m=\u001b[39m\u001b[38;5;124m\"\u001b[39m\u001b[38;5;124m1030\u001b[39m\u001b[38;5;124m\"\u001b[39m)\n\u001b[0;32m      2\u001b[0m model \u001b[38;5;241m=\u001b[39m Poe()\n\u001b[0;32m      3\u001b[0m \u001b[38;5;66;03m# model = Deepseek()\u001b[39;00m\n",
      "\u001b[1;31mNameError\u001b[0m: name 'Novel' is not defined"
     ]
    }
   ],
   "source": [
    "\n",
    "# TODO: add a fetcher for data\n",
    "data_fetcher = Lab_Data()\n",
    "\n",
    "\n",
    "model = Poe()\n",
    "# model = Deepseek()\n",
    "storyteller = StoryTeller(model)\n",
    "# storyteller.tell_novel(novel, \"史金\", start_chapter=67, end_chapter=67, reset_chapters_inbetween=True)\n",
    "# storyteller.construct_character_dict(novel)\n"
   ]
  },
  {
   "cell_type": "code",
   "execution_count": 4,
   "metadata": {},
   "outputs": [
    {
     "name": "stdout",
     "output_type": "stream",
     "text": [
      "Timeout, waiting for 10 seconds and switch to new email\n",
      "Switching email due to timeout, might be no credits\n",
      "Switching email\n",
      "Switched to new email account luke.yangluhb@gmail.com\n",
      "Generating chapter 1...\n",
      "Chapter 1 generated.\n",
      "Generating chapter 2...\n",
      "Chapter 2 generated.\n",
      "Generating chapter 3...\n",
      "Chapter 3 generated.\n",
      "Generating chapter 4...\n",
      "Chapter 4 generated.\n",
      "Generating chapter 5...\n",
      "Chapter 5 generated.\n",
      "Generating chapter 6...\n",
      "Chapter 6 generated.\n"
     ]
    }
   ],
   "source": [
    "storyteller.tell_novel(novel, \"史金\", start_chapter=1, end_chapter=6, reset_chapters_inbetween=True)"
   ]
  },
  {
   "cell_type": "code",
   "execution_count": null,
   "metadata": {},
   "outputs": [],
   "source": []
  }
 ],
 "metadata": {
  "kernelspec": {
   "display_name": "smartbook",
   "language": "python",
   "name": "python3"
  },
  "language_info": {
   "codemirror_mode": {
    "name": "ipython",
    "version": 3
   },
   "file_extension": ".py",
   "mimetype": "text/x-python",
   "name": "python",
   "nbconvert_exporter": "python",
   "pygments_lexer": "ipython3",
   "version": "3.11.10"
  }
 },
 "nbformat": 4,
 "nbformat_minor": 2
}
