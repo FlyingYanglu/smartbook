{
 "cells": [
  {
   "cell_type": "code",
   "execution_count": 1,
   "metadata": {},
   "outputs": [],
   "source": [
    "%reload_ext autoreload\n",
    "%autoreload 2"
   ]
  },
  {
   "cell_type": "code",
   "execution_count": 2,
   "metadata": {},
   "outputs": [],
   "source": [
    "from smartbook.data import Data\n",
    "from smartbook.llms.poe import Poe\n",
    "from smartbook.llms.deepseek import Deepseek\n",
    "from smartbook.booking import Booker"
   ]
  },
  {
   "cell_type": "code",
   "execution_count": 3,
   "metadata": {},
   "outputs": [
    {
     "name": "stdout",
     "output_type": "stream",
     "text": [
      "Constructing email dict out of email accounts ['llu430173@gmail.com', 'luke.yangluhb@gmail.com', 'yang_huibo@outlook.com', 'lluke6025@gmail.com', 'lu4431928@gmail.com', 'yhb19991115@gmail.com', 'legolukeluke3@gmail.com']\n",
      "Switching email\n",
      "Switched to new email account llu430173@gmail.com\n"
     ]
    },
    {
     "data": {
      "text/plain": [
       "({'ranked_rooms': [{'room_name': '251 Olsson',\n",
       "    'rank': 1,\n",
       "    'score': 90,\n",
       "    'reasons': 'High illumination suitable for studying, but CO2 level and temperature data are unavailable. Generally good for study activities due to high brightness.'},\n",
       "   {'room_name': '211 Olsson',\n",
       "    'rank': 2,\n",
       "    'score': 80,\n",
       "    'reasons': 'Good temperature, low CO2 level, but very low illumination; suitable for quiet study but needs additional lighting.'},\n",
       "   {'room_name': '217 Olsson',\n",
       "    'rank': 3,\n",
       "    'score': 75,\n",
       "    'reasons': 'Adequate temperature and low CO2 level, but low illumination. Could be improved with additional light sources, but noise level data is missing.'},\n",
       "   {'room_name': '225 Olsson',\n",
       "    'rank': 4,\n",
       "    'score': 65,\n",
       "    'reasons': 'Good CO2 level but low temperature and very low illumination. Not ideal for study unless lighting is improved.'},\n",
       "   {'room_name': '204 Olsson',\n",
       "    'rank': 5,\n",
       "    'score': 50,\n",
       "    'reasons': 'Incomplete data; cannot assess suitability.'}]},\n",
       " 'Current Time: 09:35:46\\n{\"211 Olsson\": {\"Temperature_°C\": 20.51, \"co2_ppm\": 409.8, \"Illumination_lx\": 4.64, \"Humidity_%\": 28.82, \"occupancy_count\": null, \"spl_A\": null, \"voc_ppb\": 101.15, \"pm2.5_μg/m3\": 0.04, \"pm10.0_μg/m3\": null, \"motion_last_minute\": null},\\n\"217 Olsson\": {\"Temperature_°C\": 20.98, \"co2_ppm\": 411.15, \"Illumination_lx\": 22.21, \"Humidity_%\": 28.24, \"occupancy_count\": null, \"spl_A\": null, \"voc_ppb\": 137.59, \"pm2.5_μg/m3\": 0.01, \"pm10.0_μg/m3\": null, \"motion_last_minute\": null},\\n\"225 Olsson\": {\"Temperature_°C\": 19.43, \"co2_ppm\": 409.12, \"Illumination_lx\": 0.26, \"Humidity_%\": 30.93, \"occupancy_count\": null, \"spl_A\": null, \"voc_ppb\": 130.79, \"pm2.5_μg/m3\": 0.01, \"pm10.0_μg/m3\": null, \"motion_last_minute\": null},\\n\"251 Olsson\": {\"Temperature_°C\": 19.12, \"co2_ppm\": null, \"Illumination_lx\": 760.2, \"Humidity_%\": 0.0, \"occupancy_count\": null, \"spl_A\": null, \"voc_ppb\": null, \"pm2.5_μg/m3\": null, \"pm10.0_μg/m3\": null, \"motion_last_minute\": null},\\n\"204 Olsson\": {\"Temperature_°C\": null, \"co2_ppm\": null, \"Illumination_lx\": null, \"Humidity_%\": null, \"occupancy_count\": null, \"spl_A\": null, \"voc_ppb\": null, \"pm2.5_μg/m3\": null, \"pm10.0_μg/m3\": null, \"motion_last_minute\": null}}\\n')"
      ]
     },
     "execution_count": 3,
     "metadata": {},
     "output_type": "execute_result"
    }
   ],
   "source": [
    "\n",
    "# TODO: add a fetcher for data\n",
    "data_fetcher = Data()\n",
    "\n",
    "\n",
    "model = Poe(headless=False)\n",
    "# model = Deepseek()\n",
    "\n",
    "booker = Booker(model)\n",
    "booker.book(data_fetcher, \"I need a place for study\", return_data=True)"
   ]
  },
  {
   "cell_type": "code",
   "execution_count": 4,
   "metadata": {},
   "outputs": [
    {
     "name": "stdout",
     "output_type": "stream",
     "text": [
      "Constructing email dict out of email accounts ['llu430173@gmail.com', 'luke.yangluhb@gmail.com', 'yang_huibo@outlook.com', 'lluke6025@gmail.com', 'lu4431928@gmail.com', 'yhb19991115@gmail.com', 'legolukeluke3@gmail.com']\n",
      "Switching email\n",
      "Switched to new email account llu430173@gmail.com\n",
      "{'explicit': {\"I want a room where I won't feel too cold or too hot.\": ({'ranked_rooms': [{'room_name': '211 Olsson', 'rank': 1, 'score': 90, 'reasons': 'Optimal temperature (20.49°C), low CO2 level (409.68 ppm), but low illumination (4.73 lx) which may not be ideal for all activities.'}, {'room_name': '217 Olsson', 'rank': 2, 'score': 85, 'reasons': 'Slightly higher temperature (20.99°C) but still comfortable, low CO2 level (411.09 ppm), and low illumination (22.26 lx).'}, {'room_name': '225 Olsson', 'rank': 3, 'score': 80, 'reasons': 'Cooler temperature (19.43°C), low CO2 level (408.99 ppm), but very low illumination (0.26 lx) makes it less suitable for active use.'}, {'room_name': '251 Olsson', 'rank': 4, 'score': 75, 'reasons': 'Very high illumination (760.2 lx) suitable for activities, but temperature and CO2 levels are unknown, making it less favorable.'}, {'room_name': '204 Olsson', 'rank': 5, 'score': 50, 'reasons': 'Insufficient data available to assess suitability for any activities.'}]}, 'Current Time: 09:36:19\\n{\"211 Olsson\": {\"Temperature_°C\": 20.49, \"co2_ppm\": 409.68, \"Illumination_lx\": 4.73, \"Humidity_%\": 28.85, \"occupancy_count\": null, \"spl_A\": null, \"voc_ppb\": 100.37, \"pm2.5_μg/m3\": 0.04, \"pm10.0_μg/m3\": null, \"motion_last_minute\": null},\\n\"217 Olsson\": {\"Temperature_°C\": 20.99, \"co2_ppm\": 411.09, \"Illumination_lx\": 22.26, \"Humidity_%\": 28.23, \"occupancy_count\": null, \"spl_A\": null, \"voc_ppb\": 137.44, \"pm2.5_μg/m3\": 0.0, \"pm10.0_μg/m3\": null, \"motion_last_minute\": null},\\n\"225 Olsson\": {\"Temperature_°C\": 19.43, \"co2_ppm\": 408.99, \"Illumination_lx\": 0.26, \"Humidity_%\": 30.94, \"occupancy_count\": null, \"spl_A\": null, \"voc_ppb\": 130.56, \"pm2.5_μg/m3\": 0.01, \"pm10.0_μg/m3\": null, \"motion_last_minute\": null},\\n\"251 Olsson\": {\"Temperature_°C\": 19.12, \"co2_ppm\": null, \"Illumination_lx\": 760.2, \"Humidity_%\": 0.0, \"occupancy_count\": null, \"spl_A\": null, \"voc_ppb\": null, \"pm2.5_μg/m3\": null, \"pm10.0_μg/m3\": null, \"motion_last_minute\": null},\\n\"204 Olsson\": {\"Temperature_°C\": null, \"co2_ppm\": null, \"Illumination_lx\": null, \"Humidity_%\": null, \"occupancy_count\": null, \"spl_A\": null, \"voc_ppb\": null, \"pm2.5_μg/m3\": null, \"pm10.0_μg/m3\": null, \"motion_last_minute\": null}}\\n'), 'I need a space with perfect air quality to stay focused.': ({'ranked_rooms': [{'room_name': '211 Olsson', 'rank': 1, 'score': 90, 'reasons': 'Excellent CO2 level (409.65 ppm), comfortable temperature (20.49°C), but very low illumination (4.69 lx) which may affect focus.'}, {'room_name': '217 Olsson', 'rank': 2, 'score': 85, 'reasons': 'Good CO2 level (411.09 ppm), comfortable temperature (20.99°C), slightly better illumination (22.26 lx) but still low for focused activities.'}, {'room_name': '225 Olsson', 'rank': 3, 'score': 70, 'reasons': 'Very low illumination (0.27 lx) and acceptable CO2 level (408.87 ppm), but cooler temperature (19.43°C) may not be ideal for comfort.'}, {'room_name': '251 Olsson', 'rank': 4, 'score': 65, 'reasons': 'High illumination (760.2 lx) is excellent, but no CO2 and temperature data available makes it less suitable for focusing.'}, {'room_name': '204 Olsson', 'rank': 5, 'score': 50, 'reasons': 'No data available for CO2, temperature, or illumination, making it impossible to assess suitability.'}]}, 'Current Time: 09:36:50\\n{\"211 Olsson\": {\"Temperature_°C\": 20.49, \"co2_ppm\": 409.65, \"Illumination_lx\": 4.69, \"Humidity_%\": 28.85, \"occupancy_count\": null, \"spl_A\": null, \"voc_ppb\": 100.45, \"pm2.5_μg/m3\": 0.04, \"pm10.0_μg/m3\": null, \"motion_last_minute\": null},\\n\"217 Olsson\": {\"Temperature_°C\": 20.99, \"co2_ppm\": 411.09, \"Illumination_lx\": 22.26, \"Humidity_%\": 28.23, \"occupancy_count\": null, \"spl_A\": null, \"voc_ppb\": 137.66, \"pm2.5_μg/m3\": 0.0, \"pm10.0_μg/m3\": null, \"motion_last_minute\": null},\\n\"225 Olsson\": {\"Temperature_°C\": 19.43, \"co2_ppm\": 408.87, \"Illumination_lx\": 0.27, \"Humidity_%\": 30.94, \"occupancy_count\": null, \"spl_A\": null, \"voc_ppb\": 130.36, \"pm2.5_μg/m3\": 0.01, \"pm10.0_μg/m3\": null, \"motion_last_minute\": null},\\n\"251 Olsson\": {\"Temperature_°C\": 19.12, \"co2_ppm\": null, \"Illumination_lx\": 760.2, \"Humidity_%\": 0.0, \"occupancy_count\": null, \"spl_A\": null, \"voc_ppb\": null, \"pm2.5_μg/m3\": null, \"pm10.0_μg/m3\": null, \"motion_last_minute\": null},\\n\"204 Olsson\": {\"Temperature_°C\": null, \"co2_ppm\": null, \"Illumination_lx\": null, \"Humidity_%\": null, \"occupancy_count\": null, \"spl_A\": null, \"voc_ppb\": null, \"pm2.5_μg/m3\": null, \"pm10.0_μg/m3\": null, \"motion_last_minute\": null}}\\n'), 'I want a room bright enough for reading but not too glaring.': ({'ranked_rooms': [{'room_name': '251 Olsson', 'rank': 1, 'score': 95, 'reasons': 'High illumination level (760.2 lx) suitable for reading, optimal temperature (19.12°C) though slightly cool, CO2 level is unknown but no occupancy suggests good air quality.'}, {'room_name': '217 Olsson', 'rank': 2, 'score': 85, 'reasons': 'Moderate illumination (22.31 lx) is insufficient for reading, but acceptable temperature (21.01°C) and low CO2 level (411.12 ppm) suggest a comfortable environment.'}, {'room_name': '211 Olsson', 'rank': 3, 'score': 75, 'reasons': 'Very low illumination (4.79 lx) is inadequate for reading, but temperature (20.48°C) and CO2 level (409.54 ppm) are good.'}, {'room_name': '225 Olsson', 'rank': 4, 'score': 65, 'reasons': 'Extremely low illumination (0.26 lx) makes it unsuitable for reading. Temperature (19.43°C) is acceptable, but CO2 level is also low (408.85 ppm).'}, {'room_name': '204 Olsson', 'rank': 5, 'score': 50, 'reasons': 'Data unavailable for temperature, CO2, and illumination. Not suitable for any activity.'}]}, 'Current Time: 09:37:18\\n{\"211 Olsson\": {\"Temperature_°C\": 20.48, \"co2_ppm\": 409.54, \"Illumination_lx\": 4.79, \"Humidity_%\": 28.87, \"occupancy_count\": null, \"spl_A\": null, \"voc_ppb\": 99.57, \"pm2.5_μg/m3\": 0.04, \"pm10.0_μg/m3\": null, \"motion_last_minute\": null},\\n\"217 Olsson\": {\"Temperature_°C\": 21.01, \"co2_ppm\": 411.12, \"Illumination_lx\": 22.31, \"Humidity_%\": 28.22, \"occupancy_count\": null, \"spl_A\": null, \"voc_ppb\": 137.3, \"pm2.5_μg/m3\": 0.0, \"pm10.0_μg/m3\": null, \"motion_last_minute\": null},\\n\"225 Olsson\": {\"Temperature_°C\": 19.43, \"co2_ppm\": 408.85, \"Illumination_lx\": 0.26, \"Humidity_%\": 30.95, \"occupancy_count\": null, \"spl_A\": null, \"voc_ppb\": 130.07, \"pm2.5_μg/m3\": 0.01, \"pm10.0_μg/m3\": null, \"motion_last_minute\": null},\\n\"251 Olsson\": {\"Temperature_°C\": 19.12, \"co2_ppm\": null, \"Illumination_lx\": 760.2, \"Humidity_%\": 0.0, \"occupancy_count\": null, \"spl_A\": null, \"voc_ppb\": null, \"pm2.5_μg/m3\": null, \"pm10.0_μg/m3\": null, \"motion_last_minute\": null},\\n\"204 Olsson\": {\"Temperature_°C\": null, \"co2_ppm\": null, \"Illumination_lx\": null, \"Humidity_%\": null, \"occupancy_count\": null, \"spl_A\": null, \"voc_ppb\": null, \"pm2.5_μg/m3\": null, \"pm10.0_μg/m3\": null, \"motion_last_minute\": null}}\\n'), 'I need a super quiet room for studying.': ({'ranked_rooms': [{'room_name': '251 Olsson', 'rank': 1, 'score': 90, 'reasons': 'Very high illumination (760.2 lx) suitable for studying, optimal temperature (19.12°C), and undetermined CO2 level; occupancy status could not be determined but high illumination makes it a good choice.'}, {'room_name': '211 Olsson', 'rank': 2, 'score': 85, 'reasons': 'Good temperature (20.48°C), low CO2 level (409.53 ppm), but very low illumination (4.75 lx). Noise level and occupancy status are undetermined.'}, {'room_name': '217 Olsson', 'rank': 3, 'score': 80, 'reasons': 'Comfortable temperature (21.01°C) and low CO2 level (411.12 ppm); however, illumination (22.31 lx) is low for studying and noise level is undetermined.'}, {'room_name': '225 Olsson', 'rank': 4, 'score': 70, 'reasons': 'Comfortable temperature (19.43°C) and low CO2 level (408.83 ppm), but extremely low illumination (0.26 lx) makes it unsuitable for studying.'}, {'room_name': '204 Olsson', 'rank': 5, 'score': 50, 'reasons': 'Insufficient data on temperature, CO2 level, and illumination makes it the least suitable option for studying.'}]}, 'Current Time: 09:37:49\\n{\"211 Olsson\": {\"Temperature_°C\": 20.48, \"co2_ppm\": 409.53, \"Illumination_lx\": 4.75, \"Humidity_%\": 28.87, \"occupancy_count\": null, \"spl_A\": null, \"voc_ppb\": 99.65, \"pm2.5_μg/m3\": 0.04, \"pm10.0_μg/m3\": null, \"motion_last_minute\": null},\\n\"217 Olsson\": {\"Temperature_°C\": 21.01, \"co2_ppm\": 411.12, \"Illumination_lx\": 22.31, \"Humidity_%\": 28.22, \"occupancy_count\": null, \"spl_A\": null, \"voc_ppb\": 137.2, \"pm2.5_μg/m3\": 0.0, \"pm10.0_μg/m3\": null, \"motion_last_minute\": null},\\n\"225 Olsson\": {\"Temperature_°C\": 19.43, \"co2_ppm\": 408.83, \"Illumination_lx\": 0.26, \"Humidity_%\": 30.95, \"occupancy_count\": null, \"spl_A\": null, \"voc_ppb\": 130.07, \"pm2.5_μg/m3\": 0.01, \"pm10.0_μg/m3\": null, \"motion_last_minute\": null},\\n\"251 Olsson\": {\"Temperature_°C\": 19.12, \"co2_ppm\": null, \"Illumination_lx\": 760.2, \"Humidity_%\": 0.0, \"occupancy_count\": null, \"spl_A\": null, \"voc_ppb\": null, \"pm2.5_μg/m3\": null, \"pm10.0_μg/m3\": null, \"motion_last_minute\": null},\\n\"204 Olsson\": {\"Temperature_°C\": null, \"co2_ppm\": null, \"Illumination_lx\": null, \"Humidity_%\": null, \"occupancy_count\": null, \"spl_A\": null, \"voc_ppb\": null, \"pm2.5_μg/m3\": null, \"pm10.0_μg/m3\": null, \"motion_last_minute\": null}}\\n'), 'I want a room that feels fresh and is not muggy.': ({'ranked_rooms': [{'room_name': '251 Olsson', 'rank': 1, 'score': 95, 'reasons': 'High illumination (760.2 lx), optimal temperature, and no CO2 data indicating freshness. Suitable for activities requiring good lighting.'}, {'room_name': '211 Olsson', 'rank': 2, 'score': 85, 'reasons': 'Low CO2 level (409.39 ppm), comfortable temperature (20.46°C), but very low illumination (4.84 lx) which may not be suitable for focused tasks.'}, {'room_name': '217 Olsson', 'rank': 3, 'score': 80, 'reasons': 'Moderate temperature (21.02°C) and low CO2 level (411.18 ppm), but also very low illumination (22.37 lx) affecting suitability for activities.'}, {'room_name': '225 Olsson', 'rank': 4, 'score': 70, 'reasons': 'Low temperature (19.42°C) may feel a bit cold, low CO2 level (408.65 ppm), but very low illumination (0.26 lx) makes it unsuitable for active tasks.'}, {'room_name': '204 Olsson', 'rank': 5, 'score': 50, 'reasons': 'Insufficient data on temperature, CO2 level, or illumination; unable to assess suitability.'}]}, 'Current Time: 09:38:16\\n{\"211 Olsson\": {\"Temperature_°C\": 20.46, \"co2_ppm\": 409.39, \"Illumination_lx\": 4.84, \"Humidity_%\": 28.89, \"occupancy_count\": null, \"spl_A\": null, \"voc_ppb\": 98.95, \"pm2.5_μg/m3\": 0.04, \"pm10.0_μg/m3\": null, \"motion_last_minute\": null},\\n\"217 Olsson\": {\"Temperature_°C\": 21.02, \"co2_ppm\": 411.18, \"Illumination_lx\": 22.37, \"Humidity_%\": 28.21, \"occupancy_count\": null, \"spl_A\": null, \"voc_ppb\": 136.91, \"pm2.5_μg/m3\": 0.0, \"pm10.0_μg/m3\": null, \"motion_last_minute\": null},\\n\"225 Olsson\": {\"Temperature_°C\": 19.42, \"co2_ppm\": 408.65, \"Illumination_lx\": 0.26, \"Humidity_%\": 30.96, \"occupancy_count\": null, \"spl_A\": null, \"voc_ppb\": 129.75, \"pm2.5_μg/m3\": 0.01, \"pm10.0_μg/m3\": null, \"motion_last_minute\": null},\\n\"251 Olsson\": {\"Temperature_°C\": 19.12, \"co2_ppm\": null, \"Illumination_lx\": 760.2, \"Humidity_%\": 0.0, \"occupancy_count\": null, \"spl_A\": null, \"voc_ppb\": null, \"pm2.5_μg/m3\": null, \"pm10.0_μg/m3\": null, \"motion_last_minute\": null},\\n\"204 Olsson\": {\"Temperature_°C\": null, \"co2_ppm\": null, \"Illumination_lx\": null, \"Humidity_%\": null, \"occupancy_count\": null, \"spl_A\": null, \"voc_ppb\": null, \"pm2.5_μg/m3\": null, \"pm10.0_μg/m3\": null, \"motion_last_minute\": null}}\\n')}, 'implicit': {'I need a room to study effectively.': ({'ranked_rooms': [{'room_name': '251 Olsson', 'rank': 1, 'score': 90, 'reasons': 'Excellent illumination for studying (760.2 lux), optimal temperature (19.12°C), and no CO2 level data to suggest issues. However, the temperature is slightly on the cooler side, but illumination compensates well.'}, {'room_name': '217 Olsson', 'rank': 2, 'score': 85, 'reasons': 'Slightly higher temperature (21.02°C) is optimal for studying, low CO2 level (411.17 ppm), and modest illumination (22.37 lux) could be improved for study purposes. No occupancy data available.'}, {'room_name': '211 Olsson', 'rank': 3, 'score': 80, 'reasons': 'Comfortable temperature (20.47°C) and low CO2 level (409.37 ppm), but very low illumination (4.8 lux) is inadequate for studying.'}, {'room_name': '225 Olsson', 'rank': 4, 'score': 70, 'reasons': 'Fairly low temperature (19.42°C) and CO2 level (408.63 ppm), but illumination is extremely low (0.26 lux), making it unsuitable for studying.'}, {'room_name': '204 Olsson', 'rank': 5, 'score': 50, 'reasons': 'Insufficient data available (no temperature, CO2, or illumination values) to assess suitability for studying.'}]}, 'Current Time: 09:38:44\\n{\"211 Olsson\": {\"Temperature_°C\": 20.47, \"co2_ppm\": 409.37, \"Illumination_lx\": 4.8, \"Humidity_%\": 28.89, \"occupancy_count\": null, \"spl_A\": null, \"voc_ppb\": 99.14, \"pm2.5_μg/m3\": 0.04, \"pm10.0_μg/m3\": null, \"motion_last_minute\": null},\\n\"217 Olsson\": {\"Temperature_°C\": 21.02, \"co2_ppm\": 411.17, \"Illumination_lx\": 22.37, \"Humidity_%\": 28.21, \"occupancy_count\": null, \"spl_A\": null, \"voc_ppb\": 137.22, \"pm2.5_μg/m3\": 0.0, \"pm10.0_μg/m3\": null, \"motion_last_minute\": null},\\n\"225 Olsson\": {\"Temperature_°C\": 19.42, \"co2_ppm\": 408.63, \"Illumination_lx\": 0.26, \"Humidity_%\": 30.96, \"occupancy_count\": null, \"spl_A\": null, \"voc_ppb\": 129.66, \"pm2.5_μg/m3\": 0.01, \"pm10.0_μg/m3\": null, \"motion_last_minute\": null},\\n\"251 Olsson\": {\"Temperature_°C\": 19.12, \"co2_ppm\": null, \"Illumination_lx\": 760.2, \"Humidity_%\": 0.0, \"occupancy_count\": null, \"spl_A\": null, \"voc_ppb\": null, \"pm2.5_μg/m3\": null, \"pm10.0_μg/m3\": null, \"motion_last_minute\": null},\\n\"204 Olsson\": {\"Temperature_°C\": null, \"co2_ppm\": null, \"Illumination_lx\": null, \"Humidity_%\": null, \"occupancy_count\": null, \"spl_A\": null, \"voc_ppb\": null, \"pm2.5_μg/m3\": null, \"pm10.0_μg/m3\": null, \"motion_last_minute\": null}}\\n'), 'I need a room suitable for a business meeting.': ({'ranked_rooms': [{'room_name': '251 Olsson', 'rank': 1, 'score': 90, 'reasons': 'High illumination level (760.2 lx) ideal for meetings, temperature is comfortable (19.12 °C), CO2 level is acceptable but not provided, no occupancy data available.'}, {'room_name': '217 Olsson', 'rank': 2, 'score': 80, 'reasons': 'Moderate illumination (22.74 lx) may be insufficient, but temperature (21.03 °C) and CO2 level (411.2 ppm) are within acceptable limits, no occupancy data available.'}, {'room_name': '211 Olsson', 'rank': 3, 'score': 70, 'reasons': 'Illumination is very low (4.8 lx), but temperature (20.46 °C) and CO2 level (409.27 ppm) are good, no occupancy data available.'}, {'room_name': '225 Olsson', 'rank': 4, 'score': 60, 'reasons': 'Very low illumination (0.27 lx) makes it unsuitable for a meeting, with a comfortable temperature (19.42 °C) and acceptable CO2 level (408.5 ppm).'}, {'room_name': '204 Olsson', 'rank': 5, 'score': 50, 'reasons': 'No data available for temperature, CO2 level, or illumination, making it impossible to evaluate suitability.'}]}, 'Current Time: 09:39:07\\n{\"211 Olsson\": {\"Temperature_°C\": 20.46, \"co2_ppm\": 409.27, \"Illumination_lx\": 4.8, \"Humidity_%\": 28.9, \"occupancy_count\": null, \"spl_A\": null, \"voc_ppb\": 98.51, \"pm2.5_μg/m3\": 0.04, \"pm10.0_μg/m3\": null, \"motion_last_minute\": null},\\n\"217 Olsson\": {\"Temperature_°C\": 21.03, \"co2_ppm\": 411.2, \"Illumination_lx\": 22.74, \"Humidity_%\": 28.21, \"occupancy_count\": null, \"spl_A\": null, \"voc_ppb\": 136.69, \"pm2.5_μg/m3\": 0.0, \"pm10.0_μg/m3\": null, \"motion_last_minute\": null},\\n\"225 Olsson\": {\"Temperature_°C\": 19.42, \"co2_ppm\": 408.5, \"Illumination_lx\": 0.27, \"Humidity_%\": 30.97, \"occupancy_count\": null, \"spl_A\": null, \"voc_ppb\": 129.54, \"pm2.5_μg/m3\": 0.01, \"pm10.0_μg/m3\": null, \"motion_last_minute\": null},\\n\"251 Olsson\": {\"Temperature_°C\": 19.12, \"co2_ppm\": null, \"Illumination_lx\": 760.2, \"Humidity_%\": 0.0, \"occupancy_count\": null, \"spl_A\": null, \"voc_ppb\": null, \"pm2.5_μg/m3\": null, \"pm10.0_μg/m3\": null, \"motion_last_minute\": null},\\n\"204 Olsson\": {\"Temperature_°C\": null, \"co2_ppm\": null, \"Illumination_lx\": null, \"Humidity_%\": null, \"occupancy_count\": null, \"spl_A\": null, \"voc_ppb\": null, \"pm2.5_μg/m3\": null, \"pm10.0_μg/m3\": null, \"motion_last_minute\": null}}\\n'), 'I need a space to host a casual party.': ({'ranked_rooms': [{'room_name': '251 Olsson', 'rank': 1, 'score': 95, 'reasons': 'High illumination level (760.2 lx) suitable for a lively atmosphere, temperature not provided but likely comfortable, CO2 level not provided but assumed low due to no occupancy.'}, {'room_name': '217 Olsson', 'rank': 2, 'score': 85, 'reasons': 'Moderate illumination (22.42 lx), good temperature (21.03 °C), low CO2 level (411.31 ppm), suitable for casual gatherings.'}, {'room_name': '211 Olsson', 'rank': 3, 'score': 75, 'reasons': 'Low illumination (4.86 lx) which is not ideal for a party, good temperature (20.45 °C), low CO2 level (409.24 ppm), but not very conducive for a lively gathering.'}, {'room_name': '225 Olsson', 'rank': 4, 'score': 65, 'reasons': 'Low illumination (0.26 lx) unsuitable for active gatherings, decent temperature (19.42 °C), low CO2 level (408.46 ppm), but not recommended for a party atmosphere.'}, {'room_name': '204 Olsson', 'rank': 5, 'score': 50, 'reasons': 'Data not available for this room, making it impossible to assess suitability for a party.'}]}, 'Current Time: 09:39:40\\n{\"211 Olsson\": {\"Temperature_°C\": 20.45, \"co2_ppm\": 409.24, \"Illumination_lx\": 4.86, \"Humidity_%\": 28.91, \"occupancy_count\": null, \"spl_A\": null, \"voc_ppb\": 98.31, \"pm2.5_μg/m3\": 0.04, \"pm10.0_μg/m3\": null, \"motion_last_minute\": null},\\n\"217 Olsson\": {\"Temperature_°C\": 21.03, \"co2_ppm\": 411.31, \"Illumination_lx\": 22.42, \"Humidity_%\": 28.21, \"occupancy_count\": null, \"spl_A\": null, \"voc_ppb\": 136.52, \"pm2.5_μg/m3\": 0.02, \"pm10.0_μg/m3\": null, \"motion_last_minute\": null},\\n\"225 Olsson\": {\"Temperature_°C\": 19.42, \"co2_ppm\": 408.46, \"Illumination_lx\": 0.26, \"Humidity_%\": 30.97, \"occupancy_count\": null, \"spl_A\": null, \"voc_ppb\": 129.27, \"pm2.5_μg/m3\": 0.01, \"pm10.0_μg/m3\": null, \"motion_last_minute\": null},\\n\"251 Olsson\": {\"Temperature_°C\": 19.12, \"co2_ppm\": null, \"Illumination_lx\": 760.2, \"Humidity_%\": 0.0, \"occupancy_count\": null, \"spl_A\": null, \"voc_ppb\": null, \"pm2.5_μg/m3\": null, \"pm10.0_μg/m3\": null, \"motion_last_minute\": null},\\n\"204 Olsson\": {\"Temperature_°C\": null, \"co2_ppm\": null, \"Illumination_lx\": null, \"Humidity_%\": null, \"occupancy_count\": null, \"spl_A\": null, \"voc_ppb\": null, \"pm2.5_μg/m3\": null, \"pm10.0_μg/m3\": null, \"motion_last_minute\": null}}\\n'), 'I need a quiet space to relax.': ({'ranked_rooms': [{'room_name': '251 Olsson', 'rank': 1, 'score': 95, 'reasons': 'High illumination suitable for relaxation, optimal temperature not specified but likely comfortable, no CO2 level data available but assumed low due to low occupancy.'}, {'room_name': '211 Olsson', 'rank': 2, 'score': 85, 'reasons': 'Low CO2 level, optimal temperature, very low illumination making it suitable for relaxation, but potential noise level is unknown.'}, {'room_name': '217 Olsson', 'rank': 3, 'score': 80, 'reasons': 'Optimal temperature, low CO2 level, low illumination, but potential noise level is unknown.'}, {'room_name': '225 Olsson', 'rank': 4, 'score': 70, 'reasons': 'Low temperature and CO2 levels, but very low illumination making it less ideal for active relaxation.'}, {'room_name': '204 Olsson', 'rank': 5, 'score': 50, 'reasons': 'No data available for assessment.'}]}, 'Current Time: 09:40:07\\n{\"211 Olsson\": {\"Temperature_°C\": 20.44, \"co2_ppm\": 409.11, \"Illumination_lx\": 4.85, \"Humidity_%\": 28.92, \"occupancy_count\": null, \"spl_A\": null, \"voc_ppb\": 97.9, \"pm2.5_μg/m3\": 0.04, \"pm10.0_μg/m3\": null, \"motion_last_minute\": null},\\n\"217 Olsson\": {\"Temperature_°C\": 21.04, \"co2_ppm\": 411.27, \"Illumination_lx\": 22.79, \"Humidity_%\": 28.2, \"occupancy_count\": null, \"spl_A\": null, \"voc_ppb\": 136.45, \"pm2.5_μg/m3\": 0.01, \"pm10.0_μg/m3\": null, \"motion_last_minute\": null},\\n\"225 Olsson\": {\"Temperature_°C\": 19.42, \"co2_ppm\": 408.34, \"Illumination_lx\": 0.27, \"Humidity_%\": 30.97, \"occupancy_count\": null, \"spl_A\": null, \"voc_ppb\": 129.13, \"pm2.5_μg/m3\": 0.01, \"pm10.0_μg/m3\": null, \"motion_last_minute\": null},\\n\"251 Olsson\": {\"Temperature_°C\": 19.12, \"co2_ppm\": null, \"Illumination_lx\": 760.2, \"Humidity_%\": 0.0, \"occupancy_count\": null, \"spl_A\": null, \"voc_ppb\": null, \"pm2.5_μg/m3\": null, \"pm10.0_μg/m3\": null, \"motion_last_minute\": null},\\n\"204 Olsson\": {\"Temperature_°C\": null, \"co2_ppm\": null, \"Illumination_lx\": null, \"Humidity_%\": null, \"occupancy_count\": null, \"spl_A\": null, \"voc_ppb\": null, \"pm2.5_μg/m3\": null, \"pm10.0_μg/m3\": null, \"motion_last_minute\": null}}\\n'), 'I need a room for a creative brainstorming session.': ({'ranked_rooms': [{'room_name': '251 Olsson', 'rank': 1, 'score': 90, 'reasons': 'High illumination level at 760.2 lux, which is excellent for creativity. Temperature is slightly low at 19.25°C but can be acceptable. CO2 levels are missing but the room is likely unoccupied, allowing for fresh air.'}, {'room_name': '217 Olsson', 'rank': 2, 'score': 85, 'reasons': 'Comfortable temperature at 21.05°C, low CO2 level at 411.35 ppm, and moderate illumination at 22.47 lux, which is low but acceptable for a brainstorming session if supplemented with other light sources.'}, {'room_name': '211 Olsson', 'rank': 3, 'score': 70, 'reasons': 'Good temperature at 20.44°C and low CO2 level at 409.06 ppm. However, illumination is extremely low at 4.89 lux, which is unsuitable for creative activities.'}, {'room_name': '225 Olsson', 'rank': 4, 'score': 60, 'reasons': 'Temperature at 19.42°C is acceptable, CO2 level is low at 408.26 ppm, but illumination is very low at 0.26 lux, making it inappropriate for a brainstorming session.'}, {'room_name': '204 Olsson', 'rank': 5, 'score': 50, 'reasons': 'Data is unavailable for this room, so it cannot be assessed.'}]}, 'Current Time: 09:40:41\\n{\"211 Olsson\": {\"Temperature_°C\": 20.44, \"co2_ppm\": 409.06, \"Illumination_lx\": 4.89, \"Humidity_%\": 28.93, \"occupancy_count\": null, \"spl_A\": null, \"voc_ppb\": 97.7, \"pm2.5_μg/m3\": 0.04, \"pm10.0_μg/m3\": null, \"motion_last_minute\": null},\\n\"217 Olsson\": {\"Temperature_°C\": 21.05, \"co2_ppm\": 411.35, \"Illumination_lx\": 22.47, \"Humidity_%\": 28.19, \"occupancy_count\": null, \"spl_A\": null, \"voc_ppb\": 136.42, \"pm2.5_μg/m3\": 0.01, \"pm10.0_μg/m3\": null, \"motion_last_minute\": null},\\n\"225 Olsson\": {\"Temperature_°C\": 19.42, \"co2_ppm\": 408.26, \"Illumination_lx\": 0.26, \"Humidity_%\": 30.98, \"occupancy_count\": null, \"spl_A\": null, \"voc_ppb\": 128.9, \"pm2.5_μg/m3\": 0.01, \"pm10.0_μg/m3\": null, \"motion_last_minute\": null},\\n\"251 Olsson\": {\"Temperature_°C\": 19.25, \"co2_ppm\": null, \"Illumination_lx\": 760.2, \"Humidity_%\": 0.0, \"occupancy_count\": null, \"spl_A\": null, \"voc_ppb\": null, \"pm2.5_μg/m3\": null, \"pm10.0_μg/m3\": null, \"motion_last_minute\": null},\\n\"204 Olsson\": {\"Temperature_°C\": null, \"co2_ppm\": null, \"Illumination_lx\": null, \"Humidity_%\": null, \"occupancy_count\": null, \"spl_A\": null, \"voc_ppb\": null, \"pm2.5_μg/m3\": null, \"pm10.0_μg/m3\": null, \"motion_last_minute\": null}}\\n')}}\n"
     ]
    }
   ],
   "source": [
    "# TODO: Add a fetcher for data\n",
    "data_fetcher = Data()\n",
    "\n",
    "# Initialize the model (example usage of a hypothetical model class)\n",
    "model = Poe(headless=False)\n",
    "# model = Deepseek()\n",
    "\n",
    "booker = Booker(model)\n",
    "\n",
    "# Define requests\n",
    "requests = {\n",
    "    \"explicit\": [\n",
    "        \"I want a room where I won't feel too cold or too hot.\",\n",
    "        \"I need a space with perfect air quality to stay focused.\",\n",
    "        \"I want a room bright enough for reading but not too glaring.\",\n",
    "        \"I need a super quiet room for studying.\",\n",
    "        \"I want a room that feels fresh and is not muggy.\"\n",
    "    ],\n",
    "    \"implicit\": [\n",
    "        \"I need a room to study effectively.\",\n",
    "        \"I need a room suitable for a business meeting.\",\n",
    "        \"I need a space to host a casual party.\",\n",
    "        \"I need a quiet space to relax.\",\n",
    "        \"I need a room for a creative brainstorming session.\"\n",
    "    ]\n",
    "}\n",
    "\n",
    "# Prepare booking results\n",
    "booking_results = {\n",
    "    \"explicit\": {},\n",
    "    \"implicit\": {}\n",
    "}\n",
    "\n",
    "# Book rooms based on requests\n",
    "for category, category_requests in requests.items():\n",
    "    for request in category_requests:\n",
    "        # Book the room and save the result\n",
    "        booking_results[category][request] = booker.book(data_fetcher, request, return_data=True)\n",
    "\n",
    "# Example printout of booking results\n",
    "print(booking_results)\n"
   ]
  },
  {
   "cell_type": "code",
   "execution_count": 5,
   "metadata": {},
   "outputs": [],
   "source": [
    "import json\n",
    "\n",
    "# Save booking results to a JSON file\n",
    "with open(\"booking_results.json\", \"w\") as f:\n",
    "    json.dump(booking_results, f, indent=4, ensure_ascii=False)"
   ]
  },
  {
   "cell_type": "code",
   "execution_count": null,
   "metadata": {},
   "outputs": [],
   "source": []
  }
 ],
 "metadata": {
  "kernelspec": {
   "display_name": "smartbook",
   "language": "python",
   "name": "python3"
  },
  "language_info": {
   "codemirror_mode": {
    "name": "ipython",
    "version": 3
   },
   "file_extension": ".py",
   "mimetype": "text/x-python",
   "name": "python",
   "nbconvert_exporter": "python",
   "pygments_lexer": "ipython3",
   "version": "3.11.10"
  }
 },
 "nbformat": 4,
 "nbformat_minor": 2
}
