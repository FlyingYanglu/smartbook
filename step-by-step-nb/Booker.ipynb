{
 "cells": [
  {
   "cell_type": "code",
   "execution_count": 1,
   "metadata": {},
   "outputs": [],
   "source": [
    "%reload_ext autoreload\n",
    "%autoreload 2"
   ]
  },
  {
   "cell_type": "code",
   "execution_count": 2,
   "metadata": {},
   "outputs": [],
   "source": [
    "from smartbook.data import Data\n",
    "from smartbook.llms.poe import Poe\n",
    "from smartbook.llms.deepseek import Deepseek\n",
    "from smartbook.booking import Booker"
   ]
  },
  {
   "cell_type": "code",
   "execution_count": 3,
   "metadata": {},
   "outputs": [
    {
     "name": "stdout",
     "output_type": "stream",
     "text": [
      "Constructing email dict out of email accounts ['llu430173@gmail.com', 'luke.yangluhb@gmail.com', 'yang_huibo@outlook.com', 'lluke6025@gmail.com', 'lu4431928@gmail.com', 'yhb19991115@gmail.com', 'legolukeluke3@gmail.com']\n",
      "Switching email\n",
      "Switched to new email account llu430173@gmail.com\n"
     ]
    },
    {
     "data": {
      "text/plain": [
       "{'ranked_rooms': [{'room_name': '217 Olsson',\n",
       "   'rank': 1,\n",
       "   'score': 95,\n",
       "   'reasons': 'Lowest CO2 level, moderate temperature, and no illumination issues; ideal for quiet studying.'},\n",
       "  {'room_name': '225 Olsson',\n",
       "   'rank': 2,\n",
       "   'score': 85,\n",
       "   'reasons': 'Low CO2 level, comfortable temperature, but lower illumination compared to others; still suitable for study.'},\n",
       "  {'room_name': '211 Olsson',\n",
       "   'rank': 3,\n",
       "   'score': 80,\n",
       "   'reasons': 'Moderate temperature and low CO2 level, but slightly higher illumination; still a good option for studying.'}]}"
      ]
     },
     "execution_count": 3,
     "metadata": {},
     "output_type": "execute_result"
    }
   ],
   "source": [
    "\n",
    "# TODO: add a fetcher for data\n",
    "data_fetcher = Data()\n",
    "\n",
    "\n",
    "model = Poe()\n",
    "# model = Deepseek()\n",
    "\n",
    "booker = Booker(model)\n",
    "booker.book(data_fetcher, \"I really need a quite and safe place for study\")"
   ]
  },
  {
   "cell_type": "code",
   "execution_count": null,
   "metadata": {},
   "outputs": [],
   "source": []
  }
 ],
 "metadata": {
  "kernelspec": {
   "display_name": "smartbook",
   "language": "python",
   "name": "python3"
  },
  "language_info": {
   "codemirror_mode": {
    "name": "ipython",
    "version": 3
   },
   "file_extension": ".py",
   "mimetype": "text/x-python",
   "name": "python",
   "nbconvert_exporter": "python",
   "pygments_lexer": "ipython3",
   "version": "3.11.10"
  }
 },
 "nbformat": 4,
 "nbformat_minor": 2
}
